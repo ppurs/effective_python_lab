{
 "cells": [
  {
   "cell_type": "markdown",
   "metadata": {},
   "source": [
    "# Lab 07"
   ]
  },
  {
   "cell_type": "markdown",
   "metadata": {},
   "source": [
    "## Zadanie 1"
   ]
  },
  {
   "cell_type": "markdown",
   "metadata": {},
   "source": [
    "Przygotuj demo programu znajdującego miejsca zerowe metodą Newtona. Wykorzystując `argparse` ([link](https://docs.python.org/3.6/library/argparse.html#module-argparse)) lub `optparse` ([link](https://docs.python.org/3.6/library/optparse.html)) obsłuż:\n",
    "- ustalane punktu startowego,\n",
    "- wielkość kroku w pochodnej,           <- niepotrzebne, gdy używamy gotowej metody do obliczania pochodnej*\n",
    "- ilość kroków metody,\n",
    "- dokładność\n",
    "- pomoc\n",
    "\n",
    "Program uruchamiamy podając, np.:"
   ]
  },
  {
   "cell_type": "markdown",
   "metadata": {},
   "source": [
    "`./newton.py x**2+x+1 -h 0.00001`"
   ]
  },
  {
   "cell_type": "code",
   "execution_count": 1,
   "metadata": {},
   "outputs": [],
   "source": [
    "class TestArgs:\n",
    "  func = \"x**2-7*x+1\"         # 0.146, 6.854\n",
    "  start = 5\n",
    "  n_steps = 10\n",
    "  precision = 0.0001"
   ]
  },
  {
   "cell_type": "code",
   "execution_count": 2,
   "metadata": {},
   "outputs": [
    {
     "name": "stdout",
     "output_type": "stream",
     "text": [
      "Przybliżenie miejsca zerowego:  6.854103343465046\n"
     ]
    }
   ],
   "source": [
    "from scipy.misc import derivative\n",
    "import argparse\n",
    "import re\n",
    "import warnings\n",
    "\n",
    "# czyszczę warning ze względu na to, że funkcja derivative z scipy jest przestarzała (a jeśli dobrze zrozumiałam,\n",
    "# to tylko ona została zezwolona do obliczenia pochodnej - stąd decyzja o nieużywaniu niczego \"nowszego\")\n",
    "warnings.filterwarnings(\"ignore\", category=DeprecationWarning) \n",
    "\n",
    "def f(x):\n",
    "    # regex w razie, gdyby wpisana funkcja zależała od innej zmiennej niż x\n",
    "    # zakładam tak jak w przykładzie, że funkcja zostaje wpisana po \"pythonowemu\" (tzn. np potęga to '**')\n",
    "    func = re.sub(\"[a-zA-z]+\", str(x), args.func)       \n",
    "    return eval(func)\n",
    "\n",
    "parser = argparse.ArgumentParser()\n",
    "parser.add_argument(\"func\", type=str, help=\"Funkcja, dla której będzie wyznaczane przybliżenie miejsca zerowego metodą Newtona\")\n",
    "parser.add_argument(\"start\", type=float, help=\"Punkt startowy\")\n",
    "parser.add_argument(\"n_steps\", type=int, help=\"Ilość kroków metody; domyślnie=10\", default=10, nargs='?')\n",
    "parser.add_argument(\"precision\", type=float, help=\"Dokładność; domyślnie=0.0001\", default=0.0001, nargs='?')\n",
    "#args = parser.parse_args()         # <- gdy skrypt uruchamiany jest bezpośrenio z terminala\n",
    "args = TestArgs()                   # <- na potrzeby użycia skryptu w jupyterze\n",
    "\n",
    "result = args.start\n",
    "\n",
    "for _ in range(args.n_steps):\n",
    "    prev = result\n",
    "    result = prev - f(prev)/derivative(f, prev)\n",
    "\n",
    "    if abs(result - prev) < args.precision or abs(f(result)) < args.precision:\n",
    "        break\n",
    "\n",
    "print(\"Przybliżenie miejsca zerowego: \", result)"
   ]
  },
  {
   "cell_type": "markdown",
   "metadata": {},
   "source": [
    "## Zadanie 2"
   ]
  },
  {
   "cell_type": "markdown",
   "metadata": {},
   "source": [
    "Zadanie należy wykonać wykorzystując program `BagOfWords` z poprzednich zajęć.\n",
    "\n",
    "\n",
    "Przerób ją tak, żeby interpunkcja, cyfry i wszelkie inne znaki nie przeszkadzały w parsowaniu tekstu. Uruchom ja na [tekście hamleta](http://www.gutenberg.org/cache/epub/1787/pg1787.txt). Ile razy występuje słowo hamlet? Jak brzmi 10 najczęściej występujących słów?"
   ]
  },
  {
   "cell_type": "code",
   "execution_count": 3,
   "metadata": {},
   "outputs": [],
   "source": [
    "import re\n",
    "import json\n",
    "from collections import defaultdict\n",
    "import operator\n",
    "\n",
    "'''\n",
    "W rozwiązaniu wszelkiego typu skróty (słowa z apostrofem w środku np. it's, we'll, hamlet's) traktowane są jako odrębne słowo \n",
    "(jak na maturze :p), z uwagi na ich niejedoznaczność - niewiadomo jak należałoby je traktować: czy rozwijać na podstawie najbardziej\n",
    "popularnych np. it's na it + is i zliczać oba słowa osobno, czy tylko zliczać pierwszy człon, ponadto w tekście niektóre litery w słowach\n",
    "również zastępowane są apostrofami (zatem nie jest to konkretny skrót, z reguły jest to litera 'e')\n",
    "'''\n",
    "\n",
    "class BagOfWords:\n",
    "    def __init__(self, text=\"\"):\n",
    "        if isinstance(text, dict):\n",
    "            self.dict = text.copy()\n",
    "            return \n",
    "\n",
    "        self.dict = defaultdict(int)\n",
    "\n",
    "        if isinstance(text, str):\n",
    "            self.add_text_to_bag(text)\n",
    "        else:\n",
    "            with text as doc:\n",
    "                for line in doc:\n",
    "                    self.add_text_to_bag(line)\n",
    "\n",
    "    def add_text_to_bag(self, text):\n",
    "        match = re.findall(\"([a-zA-Z]+(['-][a-zA-Z'-]+)+|[a-zA-Z]+)\", text) \n",
    "        \n",
    "        for group in match:\n",
    "                word = group[0]\n",
    "                self.dict[word.lower()] += 1\n",
    "\n",
    "    def get_sorted_dict(self):\n",
    "        return sorted(self.dict.items(), key=operator.itemgetter(1), reverse=True)\n",
    "\n",
    "    def get_top(self, n):\n",
    "        return ', '.join('{}:{}'.format(key, value) for key, value in self.get_sorted_dict()[:n])\n",
    "\n",
    "    def __str__(self):\n",
    "        return ', '.join('{}:{}'.format(key, value) for key, value in self.get_sorted_dict())\n",
    "\n",
    "    def __contains__(self, word):\n",
    "        return word in self.dict\n",
    "\n",
    "    def __iter__(self):\n",
    "        return (key for key, val in self.get_sorted_dict())\n",
    "\n",
    "    def __add__(self, other):\n",
    "        result = self.dict.copy()\n",
    "\n",
    "        for key, val in other.dict.items():\n",
    "            if (key in result):\n",
    "                result[key] += other.dict[key]\n",
    "            else:\n",
    "                result[key] = other.dict[key]\n",
    "\n",
    "        return BagOfWords(result)\n",
    "\n",
    "    def __getitem__(self, arg):\n",
    "        return self.dict[arg.lower()]\n",
    "\n",
    "    def __setitem__(self, arg, val):\n",
    "        self.dict[arg.lower()] = val\n",
    "\n",
    "    def save(self, file=\"bag_of_words.json\"):\n",
    "        with open(file, \"w\") as save_file:\n",
    "            json.dump(self.dict, save_file)\n",
    "\n",
    "    def load(self, file=\"bag_of_words.json\"):\n",
    "        with open(file) as load_file:\n",
    "            self.dict = json.load(load_file)\n"
   ]
  },
  {
   "cell_type": "code",
   "execution_count": 4,
   "metadata": {},
   "outputs": [
    {
     "name": "stdout",
     "output_type": "stream",
     "text": [
      "104\n"
     ]
    }
   ],
   "source": [
    "bow = BagOfWords(open(\"hamlet.txt\"))\n",
    "print(bow[\"hamlet\"])\n"
   ]
  },
  {
   "cell_type": "code",
   "execution_count": 5,
   "metadata": {},
   "outputs": [
    {
     "name": "stdout",
     "output_type": "stream",
     "text": [
      "the:1087, and:963, to:735, of:669, i:575, you:555, a:554, my:520, in:434, it:419\n"
     ]
    }
   ],
   "source": [
    "print(bow.get_top(10))"
   ]
  },
  {
   "cell_type": "markdown",
   "metadata": {},
   "source": [
    "## Zadanie 3"
   ]
  },
  {
   "cell_type": "markdown",
   "metadata": {},
   "source": [
    "Wykorzystując `pickle` zapisz i odczytaj klasy z poprzedniego zadania nakarmonej Hamletem. Porównaj metody i rozmiar."
   ]
  },
  {
   "cell_type": "code",
   "execution_count": 6,
   "metadata": {},
   "outputs": [],
   "source": [
    "import pickle\n",
    "import os\n",
    "import json\n",
    "\n",
    "bow_loaded = None"
   ]
  },
  {
   "cell_type": "code",
   "execution_count": 7,
   "metadata": {},
   "outputs": [
    {
     "name": "stdout",
     "output_type": "stream",
     "text": [
      "4.43 ms ± 517 µs per loop (mean ± std. dev. of 7 runs, 100 loops each)\n"
     ]
    }
   ],
   "source": [
    "%%timeit\n",
    "\n",
    "with open('bow.pkl', 'wb') as file:\n",
    "    pickle.dump(bow, file)"
   ]
  },
  {
   "cell_type": "code",
   "execution_count": 8,
   "metadata": {},
   "outputs": [
    {
     "name": "stdout",
     "output_type": "stream",
     "text": [
      "Pickle file size: 55399 bytes\n"
     ]
    }
   ],
   "source": [
    "file_size = os.path.getsize('bow.pkl')\n",
    "print(f\"Pickle file size: {file_size} bytes\")"
   ]
  },
  {
   "cell_type": "code",
   "execution_count": 9,
   "metadata": {},
   "outputs": [
    {
     "name": "stdout",
     "output_type": "stream",
     "text": [
      "3.85 ms ± 940 µs per loop (mean ± std. dev. of 7 runs, 100 loops each)\n"
     ]
    }
   ],
   "source": [
    "%%timeit\n",
    "\n",
    "with open('bow.pkl', 'rb') as file:\n",
    "    bow_loaded = pickle.load(file)"
   ]
  },
  {
   "cell_type": "code",
   "execution_count": 10,
   "metadata": {},
   "outputs": [
    {
     "name": "stdout",
     "output_type": "stream",
     "text": [
      "the:1087, and:963, to:735, of:669, i:575, you:555, a:554, my:520, in:434, it:419\n"
     ]
    }
   ],
   "source": [
    "with open('bow.pkl', 'rb') as file:\n",
    "    bow_loaded = pickle.load(file)\n",
    "\n",
    "print(bow_loaded.get_top(10))"
   ]
  },
  {
   "cell_type": "code",
   "execution_count": 11,
   "metadata": {},
   "outputs": [
    {
     "name": "stdout",
     "output_type": "stream",
     "text": [
      "42.9 ms ± 3.25 ms per loop (mean ± std. dev. of 7 runs, 10 loops each)\n"
     ]
    }
   ],
   "source": [
    "%%timeit\n",
    "\n",
    "bow.save()"
   ]
  },
  {
   "cell_type": "code",
   "execution_count": 12,
   "metadata": {},
   "outputs": [
    {
     "name": "stdout",
     "output_type": "stream",
     "text": [
      "JSCN file size: 65355 bytes\n"
     ]
    }
   ],
   "source": [
    "file_size = os.path.getsize('bag_of_words.json')\n",
    "print(f\"JSCN file size: {file_size} bytes\")"
   ]
  },
  {
   "cell_type": "code",
   "execution_count": 13,
   "metadata": {},
   "outputs": [
    {
     "name": "stdout",
     "output_type": "stream",
     "text": [
      "5.53 ms ± 754 µs per loop (mean ± std. dev. of 7 runs, 100 loops each)\n"
     ]
    }
   ],
   "source": [
    "%%timeit\n",
    "\n",
    "bow.load()"
   ]
  },
  {
   "cell_type": "markdown",
   "metadata": {},
   "source": [
    "Porównując zapis i odczyt obiektu bow do pliku za pomocą dwóch modułów: pickle i json, możemy stwierdzić, że pickle działa zdecydowanie szybciej (zapis ~10x, odczyt ~2x), ponadto plik zapisany przy użyciu pickle ma mniejszy rozmiar niż json (o ok. 10Mb)\n"
   ]
  },
  {
   "cell_type": "markdown",
   "metadata": {},
   "source": [
    "## Zadanie 4"
   ]
  },
  {
   "cell_type": "markdown",
   "metadata": {},
   "source": [
    "Wykorzystując [https://gist.github.com/pamelafox/986163](https://gist.github.com/pamelafox/986163) podaj aktualną godzinę we:\n",
    "- wszystkich krajach, wyświetlając je zgrupowane względem kontynentów,\n",
    "- przeprowadź symulacyjne wyświetlanie kolejnych krajów w miarę jak w danym kraju wybija północ, opóżnienie wyświetlania ustaw proporcjonalne do realnego czasu"
   ]
  },
  {
   "cell_type": "code",
   "execution_count": 14,
   "metadata": {},
   "outputs": [],
   "source": [
    "from countryinfo import countries\n",
    "from datetime import datetime\n",
    "from dateutil import tz\n",
    "from itertools import groupby\n",
    "from operator import itemgetter\n",
    "from time import sleep"
   ]
  },
  {
   "cell_type": "code",
   "execution_count": 15,
   "metadata": {},
   "outputs": [
    {
     "name": "stdout",
     "output_type": "stream",
     "text": [
      "                  AFRICA                 \n",
      "-------------------------------------------\n",
      "Angola                             23:50:21\n",
      "Burkina Faso                       22:50:21\n",
      "Burundi                            00:50:21\n",
      "Benin                              23:50:21\n",
      "Botswana                           00:50:21\n",
      "Democratic Republic of the Congo   23:50:21\n",
      "Republic of the Congo              23:50:21\n",
      "CÃ´te d'Ivoire                     22:50:21\n",
      "Cameroon                           23:50:21\n",
      "Cape Verde                         21:50:21\n",
      "Djibouti                           01:50:21\n",
      "Egypt                              00:50:21\n",
      "Eritrea                            01:50:21\n",
      "Ethiopia                           01:50:21\n",
      "Gabon                              23:50:21\n",
      "Ghana                              22:50:21\n",
      "The Gambia                         22:50:21\n",
      "Guinea                             22:50:21\n",
      "Guinea-Bissau                      22:50:21\n",
      "Kenya                              01:50:21\n",
      "Liberia                            22:50:21\n",
      "Lesotho                            00:50:21\n",
      "Libya                              00:50:21\n",
      "Madagascar                         01:50:21\n",
      "Mali                               22:50:21\n",
      "Mauritania                         22:50:21\n",
      "Mauritius                          02:50:21\n",
      "Malawi                             00:50:21\n",
      "Mozambique                         00:50:21\n",
      "Namibia                            00:50:21\n",
      "Niger                              23:50:21\n",
      "Nigeria                            23:50:21\n",
      "Rwanda                             00:50:21\n",
      "Seychelles                         02:50:21\n",
      "Sudan                              00:50:21\n",
      "Sierra Leone                       22:50:21\n",
      "Senegal                            22:50:21\n",
      "Somalia                            01:50:21\n",
      "SÃ£o TomÃ© and PrÃ­ncipe           22:50:21\n",
      "Togo                               22:50:21\n",
      "Tunisia                            23:50:21\n",
      "Tanzania                           01:50:21\n",
      "Uganda                             01:50:21\n",
      "Zambia                             00:50:21\n",
      "Zimbabwe                           00:50:21\n",
      "Algeria                            23:50:21\n",
      "Central African Republic           23:50:21\n",
      "Chad                               23:50:21\n",
      "Comoros                            01:50:21\n",
      "Equatorial Guinea                  23:50:21\n",
      "Morocco                            23:50:21\n",
      "South Africa                       00:50:21\n",
      "Swaziland                          00:50:21\n",
      "\n",
      "                   ASIA                  \n",
      "-------------------------------------------\n",
      "Afghanistan                        03:20:21\n",
      "Armenia                            02:50:21\n",
      "Azerbaijan                         02:50:21\n",
      "Bangladesh                         04:50:21\n",
      "Bahrain                            01:50:21\n",
      "Brunei Darussalam                  06:50:21\n",
      "Bhutan                             04:50:21\n",
      "People's Republic of China         06:50:21\n",
      "Cyprus                             00:50:21\n",
      "Georgia                            02:50:21\n",
      "Indonesia                          05:50:21\n",
      "Israel                             00:50:21\n",
      "India                              04:20:21\n",
      "Iraq                               01:50:21\n",
      "Iran                               02:20:21\n",
      "Jordan                             00:50:21\n",
      "Japan                              07:50:21\n",
      "Kyrgyzstan                         04:50:21\n",
      "North Korea                        07:50:21\n",
      "South Korea                        07:50:21\n",
      "Kuwait                             01:50:21\n",
      "Lebanon                            00:50:21\n",
      "Myanmar                            05:20:21\n",
      "Mongolia                           06:50:21\n",
      "Maldives                           03:50:21\n",
      "Malaysia                           06:50:21\n",
      "Nepal                              04:35:21\n",
      "Oman                               02:50:21\n",
      "Philippines                        06:50:21\n",
      "Pakistan                           03:50:21\n",
      "Qatar                              01:50:21\n",
      "Saudi Arabia                       01:50:21\n",
      "Singapore                          06:50:21\n",
      "Syria                              00:50:21\n",
      "Thailand                           05:50:21\n",
      "Tajikistan                         03:50:21\n",
      "Turkmenistan                       03:50:21\n",
      "Turkey                             01:50:21\n",
      "Uzbekistan                         03:50:21\n",
      "Vietnam                            05:50:21\n",
      "Yemen                              01:50:21\n",
      "Cambodia                           05:50:21\n",
      "East Timor                         07:50:21\n",
      "Kazakhstan                         04:50:21\n",
      "Laos                               05:50:21\n",
      "Sri Lanka                          04:20:21\n",
      "United Arab Emirates               02:50:21\n",
      "\n",
      "                  EUROPE                 \n",
      "-------------------------------------------\n",
      "Andorra                            23:50:21\n",
      "Albania                            23:50:21\n",
      "Austria                            23:50:21\n",
      "Belgium                            23:50:21\n",
      "Bulgaria                           00:50:21\n",
      "Belarus                            01:50:21\n",
      "Czech Republic                     23:50:21\n",
      "Germany                            23:50:21\n",
      "Denmark                            23:50:21\n",
      "Estonia                            00:50:21\n",
      "Finland                            00:50:21\n",
      "France                             23:50:21\n",
      "Greece                             00:50:21\n",
      "Hungary                            23:50:21\n",
      "Republic of Ireland                22:50:21\n",
      "Iceland                            22:50:21\n",
      "Italy                              23:50:21\n",
      "Liechtenstein                      23:50:21\n",
      "Lithuania                          00:50:21\n",
      "Luxembourg                         23:50:21\n",
      "Latvia                             00:50:21\n",
      "Macedonia                          23:50:21\n",
      "Malta                              23:50:21\n",
      "Kingdom of the Netherlands         23:50:21\n",
      "Norway                             23:50:21\n",
      "Poland                             23:50:21\n",
      "Portugal                           22:50:21\n",
      "Romania                            00:50:21\n",
      "Russia                             00:50:21\n",
      "Sweden                             23:50:21\n",
      "Slovenia                           23:50:21\n",
      "Slovakia                           23:50:21\n",
      "San Marino                         23:50:21\n",
      "Ukraine                            00:50:21\n",
      "Vatican City                       23:50:21\n",
      "Bosnia and Herzegovina             23:50:21\n",
      "Croatia                            23:50:21\n",
      "Moldova                            00:50:21\n",
      "Monaco                             23:50:21\n",
      "Montenegro                         23:50:21\n",
      "Serbia                             23:50:21\n",
      "Spain                              23:50:21\n",
      "Switzerland                        23:50:21\n",
      "United Kingdom                     22:50:21\n",
      "\n",
      "              NORTH AMERICA              \n",
      "-------------------------------------------\n",
      "Antigua and Barbuda                18:50:21\n",
      "Barbados                           18:50:21\n",
      "Bahamas                            17:50:21\n",
      "Belize                             16:50:21\n",
      "Canada                             19:20:21\n",
      "Costa Rica                         16:50:21\n",
      "Cuba                               17:50:21\n",
      "Dominica                           18:50:21\n",
      "Dominican Republic                 18:50:21\n",
      "Guatemala                          16:50:21\n",
      "Haiti                              16:50:21\n",
      "Honduras                           16:50:21\n",
      "Jamaica                            17:50:21\n",
      "Mexico                             16:50:21\n",
      "Nicaragua                          16:50:21\n",
      "Panama                             17:50:21\n",
      "Trinidad and Tobago                18:50:21\n",
      "United States                      17:50:21\n",
      "El Salvador                        16:50:21\n",
      "Grenada                            18:50:21\n",
      "Saint Kitts and Nevis              18:50:21\n",
      "Saint Lucia                        18:50:21\n",
      "Saint Vincent and the Grenadines   18:50:21\n",
      "\n",
      "                 OCEANIA                 \n",
      "-------------------------------------------\n",
      "Australia                          09:50:21\n",
      "Fiji                               11:50:21\n",
      "Kiribati                           10:50:21\n",
      "Marshall Islands                   10:50:21\n",
      "Nauru                              10:50:21\n",
      "New Zealand                        11:50:21\n",
      "Papua New Guinea                   08:50:21\n",
      "Palau                              07:50:21\n",
      "Solomon Islands                    09:50:21\n",
      "Tonga                              11:50:21\n",
      "Tuvalu                             10:50:21\n",
      "Vanuatu                            09:50:21\n",
      "Federated States of Micronesia     08:50:21\n",
      "Samoa                              12:50:21\n",
      "\n",
      "              SOUTH AMERICA              \n",
      "-------------------------------------------\n",
      "Argentina                          19:50:21\n",
      "Bolivia                            18:50:21\n",
      "Brazil                             20:50:21\n",
      "Chile                              19:50:21\n",
      "Colombia                           17:50:21\n",
      "Ecuador                            17:50:21\n",
      "Guyana                             18:50:21\n",
      "Peru                               17:50:21\n",
      "Paraguay                           19:50:21\n",
      "Suriname                           19:50:21\n",
      "Uruguay                            19:50:21\n",
      "Venezuela                          18:50:21\n",
      "\n"
     ]
    }
   ],
   "source": [
    "data = sorted(countries, key=itemgetter(\"continent\"))\n",
    "\n",
    "for continent, val in groupby(data, key=itemgetter(\"continent\")):\n",
    "    print(continent.upper().center(41))\n",
    "    print(\"-------------------------------------------\")\n",
    "    for country in val:\n",
    "        timezone = tz.gettz(country[\"timezones\"][0])\n",
    "        time = datetime.now(tz=timezone).strftime(\"%H:%M:%S\")\n",
    "        print(\"{0:35}{1}\".format(country[\"name\"], time))\n",
    "    print()\n"
   ]
  },
  {
   "cell_type": "code",
   "execution_count": 16,
   "metadata": {},
   "outputs": [
    {
     "name": "stdout",
     "output_type": "stream",
     "text": [
      "Burkina Faso\n",
      "CÃ´te d'Ivoire\n",
      "Ghana\n",
      "The Gambia\n",
      "Guinea\n",
      "Guinea-Bissau\n",
      "Republic of Ireland\n",
      "Iceland\n",
      "Liberia\n",
      "Mali\n",
      "Mauritania\n",
      "Portugal\n",
      "Sierra Leone\n",
      "Senegal\n",
      "SÃ£o TomÃ© and PrÃ­ncipe\n",
      "Togo\n",
      "United Kingdom\n"
     ]
    },
    {
     "name": "stdout",
     "output_type": "stream",
     "text": [
      "Andorra\n",
      "Albania\n",
      "Angola\n",
      "Austria\n",
      "Belgium\n",
      "Benin\n",
      "Democratic Republic of the Congo\n",
      "Republic of the Congo\n",
      "Cameroon\n",
      "Cape Verde\n",
      "Czech Republic\n",
      "Germany\n",
      "Denmark\n",
      "France\n",
      "Gabon\n",
      "Hungary\n",
      "Italy\n",
      "Liechtenstein\n",
      "Luxembourg\n",
      "Macedonia\n",
      "Malta\n",
      "Niger\n",
      "Nigeria\n",
      "Kingdom of the Netherlands\n",
      "Norway\n",
      "Poland\n",
      "Sweden\n",
      "Slovenia\n",
      "Slovakia\n",
      "San Marino\n",
      "Tunisia\n",
      "Vatican City\n",
      "Algeria\n",
      "Bosnia and Herzegovina\n",
      "Central African Republic\n",
      "Chad\n",
      "Croatia\n",
      "Equatorial Guinea\n",
      "Monaco\n",
      "Montenegro\n",
      "Morocco\n",
      "Serbia\n",
      "Spain\n",
      "Switzerland\n",
      "Bulgaria\n",
      "Burundi\n",
      "Brazil\n",
      "Botswana\n",
      "Cyprus\n",
      "Estonia\n",
      "Egypt\n",
      "Finland\n",
      "Greece\n",
      "Israel\n",
      "Jordan\n",
      "Lebanon\n",
      "Lesotho\n",
      "Lithuania\n",
      "Latvia\n",
      "Libya\n",
      "Malawi\n",
      "Mozambique\n",
      "Namibia\n",
      "Romania\n",
      "Russia\n",
      "Rwanda\n",
      "Sudan\n",
      "Syria\n",
      "Ukraine\n",
      "Zambia\n",
      "Zimbabwe\n",
      "Moldova\n",
      "South Africa\n",
      "Swaziland\n",
      "Argentina\n",
      "Bahrain\n",
      "Belarus\n",
      "Chile\n",
      "Djibouti\n",
      "Eritrea\n",
      "Ethiopia\n",
      "Iraq\n",
      "Kenya\n",
      "Kuwait\n",
      "Madagascar\n",
      "Paraguay\n",
      "Qatar\n",
      "Saudi Arabia\n",
      "Somalia\n",
      "Suriname\n",
      "Turkey\n",
      "Tanzania\n",
      "Uganda\n",
      "Uruguay\n",
      "Yemen\n",
      "Comoros\n",
      "Canada\n",
      "Iran\n",
      "Antigua and Barbuda\n",
      "Armenia\n",
      "Azerbaijan\n",
      "Barbados\n",
      "Bolivia\n",
      "Dominica\n",
      "Dominican Republic\n",
      "Georgia\n",
      "Guyana\n",
      "Mauritius\n",
      "Oman\n",
      "Seychelles\n",
      "Trinidad and Tobago\n",
      "Venezuela\n",
      "Grenada\n",
      "Saint Kitts and Nevis\n",
      "Saint Lucia\n",
      "Saint Vincent and the Grenadines\n",
      "United Arab Emirates\n",
      "Afghanistan\n",
      "Bahamas\n",
      "Colombia\n",
      "Cuba\n",
      "Ecuador\n",
      "Jamaica\n",
      "Maldives\n",
      "Panama\n",
      "Peru\n",
      "Pakistan\n",
      "Tajikistan\n",
      "Turkmenistan\n",
      "United States\n",
      "Uzbekistan\n",
      "India\n",
      "Sri Lanka\n",
      "Nepal\n",
      "Bangladesh\n",
      "Bhutan\n",
      "Belize\n",
      "Costa Rica\n",
      "Guatemala\n",
      "Haiti\n",
      "Honduras\n",
      "Kyrgyzstan\n",
      "Mexico\n",
      "Nicaragua\n",
      "El Salvador\n",
      "Kazakhstan\n",
      "Myanmar\n",
      "Indonesia\n",
      "Thailand\n",
      "Vietnam\n",
      "Cambodia\n",
      "Laos\n",
      "Brunei Darussalam\n",
      "People's Republic of China\n",
      "Mongolia\n",
      "Malaysia\n",
      "Philippines\n",
      "Singapore\n",
      "Japan\n",
      "North Korea\n",
      "South Korea\n",
      "Palau\n",
      "East Timor\n",
      "Papua New Guinea\n",
      "Federated States of Micronesia\n",
      "Australia\n",
      "Solomon Islands\n",
      "Vanuatu\n",
      "Kiribati\n",
      "Marshall Islands\n",
      "Nauru\n",
      "Tuvalu\n",
      "Fiji\n",
      "New Zealand\n",
      "Tonga\n",
      "Samoa\n"
     ]
    }
   ],
   "source": [
    "offsets_to_midnight = {}\n",
    "\n",
    "for country in countries:\n",
    "    timezone = tz.gettz(country[\"timezones\"][0])\n",
    "    time = datetime.now(tz=timezone)\n",
    "    offset = time.utcoffset() \n",
    "    offsets_to_midnight[country[\"name\"]] = offset if offset.days >= 0 else -offset\n",
    "\n",
    "data = sorted(offsets_to_midnight.items(), key=lambda kv: kv[1])\n",
    "\n",
    "prev_offset = 0\n",
    "delay_base = 2\n",
    "\n",
    "for off, val in groupby(data, lambda kv: kv[1]):\n",
    "    sleep(delay_base * (off.seconds - prev_offset)/3600)\n",
    "    prev_offset = off.seconds\n",
    "\n",
    "    for country in val:\n",
    "        print(country[0])"
   ]
  },
  {
   "cell_type": "markdown",
   "metadata": {},
   "source": [
    "## Zadanie 5"
   ]
  },
  {
   "cell_type": "markdown",
   "metadata": {},
   "source": [
    "Dla klasy `BagOfWords` napisz metody `save` oraz `load` wykorzystujące `json`'a do zapisu i odczytu danych."
   ]
  },
  {
   "cell_type": "code",
   "execution_count": 17,
   "metadata": {},
   "outputs": [
    {
     "name": "stdout",
     "output_type": "stream",
     "text": [
      "ala:3, ma:2, kota:1\n"
     ]
    }
   ],
   "source": [
    "#implementacje metod save oraz load wyżej, przy zadaniu nr 2\n",
    "\n",
    "bow = BagOfWords(\"ala ma kota ala ma ala\")\n",
    "print(bow)"
   ]
  },
  {
   "cell_type": "code",
   "execution_count": 18,
   "metadata": {},
   "outputs": [
    {
     "name": "stdout",
     "output_type": "stream",
     "text": [
      "{\"ala\": 3, \"ma\": 2, \"kota\": 1}\n"
     ]
    }
   ],
   "source": [
    "bow.save()\n",
    "with open(\"bag_of_words.json\") as file:\n",
    "    print(list(file)[0])"
   ]
  },
  {
   "cell_type": "code",
   "execution_count": 19,
   "metadata": {},
   "outputs": [
    {
     "name": "stdout",
     "output_type": "stream",
     "text": [
      "True\n",
      "ala:3, ma:2, kota:1\n"
     ]
    }
   ],
   "source": [
    "bow2 = BagOfWords()\n",
    "print(bow2.__str__() == \"\")\n",
    "\n",
    "bow2.load(\"bag_of_words.json\")\n",
    "print(bow2)"
   ]
  }
 ],
 "metadata": {
  "kernelspec": {
   "display_name": "venv",
   "language": "python",
   "name": "venv"
  },
  "language_info": {
   "codemirror_mode": {
    "name": "ipython",
    "version": 3
   },
   "file_extension": ".py",
   "mimetype": "text/x-python",
   "name": "python",
   "nbconvert_exporter": "python",
   "pygments_lexer": "ipython3",
   "version": "3.11.0"
  }
 },
 "nbformat": 4,
 "nbformat_minor": 2
}
